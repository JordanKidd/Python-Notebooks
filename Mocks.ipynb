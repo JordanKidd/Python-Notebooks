{
 "cells": [
  {
   "cell_type": "markdown",
   "metadata": {},
   "source": [
    "## Title\n",
    "\n",
    "This shows basic usage of features of Python 3.5's unittest's mocking items."
   ]
  },
  {
   "cell_type": "code",
   "execution_count": 3,
   "metadata": {
    "collapsed": false
   },
   "outputs": [],
   "source": [
    "from unittest import mock\n",
    "\n",
    "from unittest.mock import MagicMock\n",
    "from unittest.mock import patch"
   ]
  },
  {
   "cell_type": "code",
   "execution_count": 4,
   "metadata": {
    "collapsed": false
   },
   "outputs": [],
   "source": [
    "class PersonExample():\n",
    "    \"\"\"Person class to be tested via Mock\"\"\"\n",
    "    \n",
    "    name = \"\"\n",
    "    age = 0\n",
    "    hobbies = []\n",
    "\n",
    "    def __init__(self, name, age, hobbies):\n",
    "        self.name = name\n",
    "        self.age = age\n",
    "        self.hobbies = hobbies\n",
    "        \n",
    "    def say_information(self) -> str:\n",
    "        words = \"My name is {}. I'm {} and I like: {}\".format(self.name, self.age, self.hobbies)\n",
    "        print(words)\n",
    "        return words\n",
    "    \n",
    "    def add_information(self, to_add: dict):\n",
    "        for k, v in to_add.items():\n",
    "            setattr(self, k, v)"
   ]
  },
  {
   "cell_type": "markdown",
   "metadata": {},
   "source": [
    "### Here we create an instance of our class.\n",
    "\n",
    "We also access a property and add a new dynamic one after instantiation. "
   ]
  },
  {
   "cell_type": "code",
   "execution_count": 5,
   "metadata": {
    "collapsed": true
   },
   "outputs": [],
   "source": [
    "p = PersonExample(\"John\", 30, ['Tennis', 'Bowling', 'Movies'])"
   ]
  },
  {
   "cell_type": "code",
   "execution_count": 6,
   "metadata": {
    "collapsed": false
   },
   "outputs": [
    {
     "data": {
      "text/plain": [
       "<__main__.PersonExample at 0x1043ddba8>"
      ]
     },
     "execution_count": 6,
     "metadata": {},
     "output_type": "execute_result"
    }
   ],
   "source": [
    "p"
   ]
  },
  {
   "cell_type": "code",
   "execution_count": 7,
   "metadata": {
    "collapsed": false
   },
   "outputs": [
    {
     "data": {
      "text/plain": [
       "['Tennis', 'Bowling', 'Movies']"
      ]
     },
     "execution_count": 7,
     "metadata": {},
     "output_type": "execute_result"
    }
   ],
   "source": [
    "p.hobbies"
   ]
  },
  {
   "cell_type": "code",
   "execution_count": 8,
   "metadata": {
    "collapsed": true
   },
   "outputs": [],
   "source": [
    "p.add_information({'favorite_color': 'green'})"
   ]
  },
  {
   "cell_type": "code",
   "execution_count": 9,
   "metadata": {
    "collapsed": false
   },
   "outputs": [
    {
     "data": {
      "text/plain": [
       "'green'"
      ]
     },
     "execution_count": 9,
     "metadata": {},
     "output_type": "execute_result"
    }
   ],
   "source": [
    "p.favorite_color"
   ]
  },
  {
   "cell_type": "code",
   "execution_count": 17,
   "metadata": {
    "collapsed": false
   },
   "outputs": [
    {
     "data": {
      "text/plain": [
       "30"
      ]
     },
     "execution_count": 17,
     "metadata": {},
     "output_type": "execute_result"
    }
   ],
   "source": [
    "p.age"
   ]
  },
  {
   "cell_type": "markdown",
   "metadata": {},
   "source": [
    "### Now let's create a mock object by passing the class name into the Mock class.\n",
    "\n",
    "What is returned certainly ***looks*** like a PersonExample object..."
   ]
  },
  {
   "cell_type": "code",
   "execution_count": 10,
   "metadata": {
    "collapsed": false
   },
   "outputs": [],
   "source": [
    "pm = mock.Mock(p)"
   ]
  },
  {
   "cell_type": "code",
   "execution_count": 11,
   "metadata": {
    "collapsed": false
   },
   "outputs": [
    {
     "data": {
      "text/plain": [
       "<__main__.PersonExample at 0x1043ddf98>"
      ]
     },
     "execution_count": 11,
     "metadata": {},
     "output_type": "execute_result"
    }
   ],
   "source": [
    "pm"
   ]
  },
  {
   "cell_type": "code",
   "execution_count": 12,
   "metadata": {
    "collapsed": false
   },
   "outputs": [
    {
     "data": {
      "text/plain": [
       "<Mock name='mock.age' id='4366221776'>"
      ]
     },
     "execution_count": 12,
     "metadata": {},
     "output_type": "execute_result"
    }
   ],
   "source": [
    "pm.age"
   ]
  },
  {
   "cell_type": "markdown",
   "metadata": {},
   "source": [
    "### ...What trickery is this!?\n",
    "\n",
    "We don't get the age interger anymore, but a mocked result. In fact all class properties are now mocked (Except for Python's 'magic' methods, which require the 'MagicMock' class instead of plain, old 'Mock').\n",
    "\n",
    "Let's now continue and begin to test our mocked object..."
   ]
  },
  {
   "cell_type": "code",
   "execution_count": 13,
   "metadata": {
    "collapsed": false
   },
   "outputs": [
    {
     "data": {
      "text/plain": [
       "False"
      ]
     },
     "execution_count": 13,
     "metadata": {},
     "output_type": "execute_result"
    }
   ],
   "source": [
    "pm.say_information.called"
   ]
  },
  {
   "cell_type": "code",
   "execution_count": 14,
   "metadata": {
    "collapsed": false
   },
   "outputs": [
    {
     "name": "stdout",
     "output_type": "stream",
     "text": [
      "<Mock name='mock.say_information()' id='4366125152'>\n"
     ]
    }
   ],
   "source": [
    "result = pm.say_information()\n",
    "print(result)"
   ]
  },
  {
   "cell_type": "code",
   "execution_count": 15,
   "metadata": {
    "collapsed": false
   },
   "outputs": [
    {
     "data": {
      "text/plain": [
       "True"
      ]
     },
     "execution_count": 15,
     "metadata": {},
     "output_type": "execute_result"
    }
   ],
   "source": [
    "pm.say_information.called"
   ]
  },
  {
   "cell_type": "code",
   "execution_count": 16,
   "metadata": {
    "collapsed": false
   },
   "outputs": [
    {
     "name": "stdout",
     "output_type": "stream",
     "text": [
      "Mocked Result\n"
     ]
    }
   ],
   "source": [
    "pm.say_information.return_value = \"Mocked Result\"\n",
    "result_two = pm.say_information()\n",
    "print(result_two)"
   ]
  },
  {
   "cell_type": "markdown",
   "metadata": {},
   "source": [
    "### Continuing on with testing...\n",
    "\n",
    "Here we specified a return value, so instead of the Mock result we can easily give meaningful results. This tends to be useful for testing purposes.\n",
    "\n",
    "So why might creating \"dumb\" objects be useful? They tend to be useful when you only want to test a certain part of your code, but you are not concerned with other, unrelated parts at a given moment. A good example would be to mock out a database interaction, always returning your data, no data, or even throwing errors. This always for you to always be defensive in your code and makes sure you have high code coverage."
   ]
  },
  {
   "cell_type": "code",
   "execution_count": 59,
   "metadata": {
    "collapsed": false
   },
   "outputs": [
    {
     "name": "stderr",
     "output_type": "stream",
     "text": [
      ".\n",
      "----------------------------------------------------------------------\n",
      "Ran 1 test in 0.002s\n",
      "\n",
      "OK\n"
     ]
    }
   ],
   "source": [
    "import unittest\n",
    "import sqlite3\n",
    "\n",
    "    \n",
    "class TestDatabase(unittest.TestCase):\n",
    "    \n",
    "    def setUp(self):\n",
    "        self.conn = mock.Mock(sqlite3.connect('example.db'))\n",
    "\n",
    "\n",
    "    def test_database_has_record(self):\n",
    "         pass\n",
    "\n",
    "            \n",
    "if __name__ == '__main__':\n",
    "    a = TestDatabase()\n",
    "    suite = unittest.TestLoader().loadTestsFromModule(a)\n",
    "    unittest.TextTestRunner().run(suite)"
   ]
  },
  {
   "cell_type": "code",
   "execution_count": null,
   "metadata": {
    "collapsed": true
   },
   "outputs": [],
   "source": []
  }
 ],
 "metadata": {
  "kernelspec": {
   "display_name": "Python 3",
   "language": "python",
   "name": "python3"
  },
  "language_info": {
   "codemirror_mode": {
    "name": "ipython",
    "version": 3
   },
   "file_extension": ".py",
   "mimetype": "text/x-python",
   "name": "python",
   "nbconvert_exporter": "python",
   "pygments_lexer": "ipython3",
   "version": "3.5.1"
  }
 },
 "nbformat": 4,
 "nbformat_minor": 0
}
